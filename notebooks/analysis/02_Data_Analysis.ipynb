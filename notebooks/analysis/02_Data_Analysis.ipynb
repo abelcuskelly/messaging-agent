{
  "cells": [
    {
      "cell_type": "markdown",
      "metadata": {},
      "source": [
        "# Data Analysis - Messaging Agent Performance\n",
        "\n",
        "This notebook analyzes conversation data, performance metrics, and user interactions with the messaging agent.\n",
        "\n",
        "## What you'll analyze:\n",
        "- Conversation patterns and flows\n",
        "- Response times and performance metrics\n",
        "- User satisfaction and engagement\n",
        "- Error rates and failure patterns\n",
        "- Tool usage and effectiveness\n"
      ]
    },
    {
      "cell_type": "code",
      "execution_count": null,
      "metadata": {},
      "outputs": [],
      "source": [
        "# Import libraries for data analysis\n",
        "import pandas as pd\n",
        "import numpy as np\n",
        "import matplotlib.pyplot as plt\n",
        "import seaborn as sns\n",
        "import plotly.express as px\n",
        "import plotly.graph_objects as go\n",
        "from plotly.subplots import make_subplots\n",
        "from datetime import datetime, timedelta\n",
        "import json\n",
        "from typing import Dict, List, Any\n",
        "\n",
        "# Google Cloud imports\n",
        "from google.cloud import bigquery\n",
        "from google.cloud import storage\n",
        "\n",
        "# Set up plotting style\n",
        "plt.style.use('seaborn-v0_8')\n",
        "sns.set_palette(\"husl\")\n",
        "\n",
        "print(\"📊 Data analysis libraries loaded successfully!\")\n"
      ]
    },
    {
      "cell_type": "code",
      "execution_count": null,
      "metadata": {},
      "outputs": [],
      "source": [
        "# Configuration\n",
        "PROJECT_ID = os.getenv('PROJECT_ID', 'your-project-id')\n",
        "DATASET_ID = 'messaging_agent'\n",
        "TABLE_ID = 'conversations'\n",
        "\n",
        "# Initialize BigQuery client\n",
        "client = bigquery.Client(project=PROJECT_ID)\n",
        "\n",
        "print(f\"🔍 BigQuery client initialized for project: {PROJECT_ID}\")\n"
      ]
    },
    {
      "cell_type": "code",
      "execution_count": null,
      "metadata": {},
      "outputs": [],
      "source": [
        "# Load conversation data from BigQuery\n",
        "def load_conversation_data(days_back=30):\n",
        "    \"\"\"Load conversation data from the last N days\"\"\"\n",
        "    \n",
        "    query = f\"\"\"\n",
        "    SELECT \n",
        "        timestamp,\n",
        "        user_id,\n",
        "        session_id,\n",
        "        message,\n",
        "        response,\n",
        "        response_time_ms,\n",
        "        tools_used,\n",
        "        rag_used,\n",
        "        error_message,\n",
        "        satisfaction_score\n",
        "    FROM `{PROJECT_ID}.{DATASET_ID}.{TABLE_ID}`\n",
        "    WHERE timestamp >= TIMESTAMP_SUB(CURRENT_TIMESTAMP(), INTERVAL {days_back} DAY)\n",
        "    ORDER BY timestamp DESC\n",
        "    \"\"\"\n",
        "    \n",
        "    df = client.query(query).to_dataframe()\n",
        "    return df\n",
        "\n",
        "# Load data\n",
        "df = load_conversation_data(30)\n",
        "print(f\"📈 Loaded {len(df)} conversations from the last 30 days\")\n",
        "print(f\"📅 Date range: {df['timestamp'].min()} to {df['timestamp'].max()}\")\n"
      ]
    },
    {
      "cell_type": "code",
      "execution_count": null,
      "metadata": {},
      "outputs": [],
      "source": [
        "# Basic data exploration\n",
        "print(\"📊 Dataset Overview:\")\n",
        "print(f\"Total conversations: {len(df)}\")\n",
        "print(f\"Unique users: {df['user_id'].nunique()}\")\n",
        "print(f\"Unique sessions: {df['session_id'].nunique()}\")\n",
        "print(f\"Average response time: {df['response_time_ms'].mean():.2f} ms\")\n",
        "print(f\"Error rate: {(df['error_message'].notna().sum() / len(df) * 100):.2f}%\")\n",
        "\n",
        "print(\"\\n🔍 First few rows:\")\n",
        "df.head()\n"
      ]
    },
    {
      "cell_type": "code",
      "execution_count": null,
      "metadata": {},
      "outputs": [],
      "source": [
        "# Response time analysis\n",
        "fig, axes = plt.subplots(2, 2, figsize=(15, 10))\n",
        "\n",
        "# Response time distribution\n",
        "axes[0, 0].hist(df['response_time_ms'], bins=50, alpha=0.7, color='skyblue')\n",
        "axes[0, 0].set_title('Response Time Distribution')\n",
        "axes[0, 0].set_xlabel('Response Time (ms)')\n",
        "axes[0, 0].set_ylabel('Frequency')\n",
        "\n",
        "# Response time over time\n",
        "df['date'] = df['timestamp'].dt.date\n",
        "daily_avg = df.groupby('date')['response_time_ms'].mean()\n",
        "axes[0, 1].plot(daily_avg.index, daily_avg.values, marker='o')\n",
        "axes[0, 1].set_title('Average Response Time Over Time')\n",
        "axes[0, 1].set_xlabel('Date')\n",
        "axes[0, 1].set_ylabel('Average Response Time (ms)')\n",
        "axes[0, 1].tick_params(axis='x', rotation=45)\n",
        "\n",
        "# Response time by hour\n",
        "df['hour'] = df['timestamp'].dt.hour\n",
        "hourly_avg = df.groupby('hour')['response_time_ms'].mean()\n",
        "axes[1, 0].bar(hourly_avg.index, hourly_avg.values, color='lightcoral')\n",
        "axes[1, 0].set_title('Average Response Time by Hour')\n",
        "axes[1, 0].set_xlabel('Hour of Day')\n",
        "axes[1, 0].set_ylabel('Average Response Time (ms)')\n",
        "\n",
        "# Response time box plot\n",
        "df.boxplot(column='response_time_ms', ax=axes[1, 1])\n",
        "axes[1, 1].set_title('Response Time Distribution (Box Plot)')\n",
        "axes[1, 1].set_ylabel('Response Time (ms)')\n",
        "\n",
        "plt.tight_layout()\n",
        "plt.show()\n"
      ]
    }
  ],
  "metadata": {
    "language_info": {
      "name": "python"
    }
  },
  "nbformat": 4,
  "nbformat_minor": 2
}
