{
  "cells": [
    {
      "cell_type": "markdown",
      "metadata": {},
      "source": [
        "# Qwen Messaging Agent - Quick Start\n",
        "\n",
        "This notebook provides a quick introduction to the Qwen Messaging Agent system.\n",
        "\n",
        "## What you'll learn:\n",
        "- Setting up the environment\n",
        "- Loading the model\n",
        "- Basic chat functionality\n",
        "- Using tools and RAG\n",
        "\n",
        "## Prerequisites\n",
        "- Google Cloud Project with Vertex AI enabled\n",
        "- Required environment variables set\n",
        "- Model deployed to Vertex AI endpoint\n"
      ]
    },
    {
      "cell_type": "code",
      "execution_count": null,
      "metadata": {},
      "outputs": [],
      "source": [
        "# Import required libraries\n",
        "import os\n",
        "import json\n",
        "from typing import Dict, List, Any\n",
        "from dotenv import load_dotenv\n",
        "\n",
        "# Load environment variables\n",
        "load_dotenv('../.env')\n",
        "\n",
        "# Google Cloud imports\n",
        "from google.cloud import aiplatform\n",
        "from google.cloud import storage\n",
        "\n",
        "# Local imports (adjust path as needed)\n",
        "import sys\n",
        "sys.path.append('../')\n",
        "from agent.messaging_agent import MessagingAgent\n",
        "from agent.rag import RAGSystem\n",
        "from agent.tools import ToolRegistry\n",
        "\n",
        "print(\"✅ All imports successful!\")\n"
      ]
    },
    {
      "cell_type": "code",
      "execution_count": null,
      "metadata": {},
      "outputs": [],
      "source": [
        "# Configuration\n",
        "PROJECT_ID = os.getenv('PROJECT_ID', 'your-project-id')\n",
        "REGION = os.getenv('REGION', 'us-central1')\n",
        "ENDPOINT_ID = os.getenv('ENDPOINT_ID', 'your-endpoint-id')\n",
        "\n",
        "# Initialize Vertex AI\n",
        "aiplatform.init(project=PROJECT_ID, location=REGION)\n",
        "\n",
        "print(f\"🚀 Initialized Vertex AI for project: {PROJECT_ID}\")\n",
        "print(f\"📍 Region: {REGION}\")\n",
        "print(f\"🎯 Endpoint ID: {ENDPOINT_ID}\")\n"
      ]
    },
    {
      "cell_type": "code",
      "execution_count": null,
      "metadata": {},
      "outputs": [],
      "source": [
        "# Initialize the messaging agent\n",
        "agent = MessagingAgent(\n",
        "    project_id=PROJECT_ID,\n",
        "    region=REGION,\n",
        "    endpoint_id=ENDPOINT_ID\n",
        ")\n",
        "\n",
        "print(\"🤖 Messaging Agent initialized successfully!\")\n"
      ]
    },
    {
      "cell_type": "code",
      "execution_count": null,
      "metadata": {},
      "outputs": [],
      "source": [
        "# Test basic chat functionality\n",
        "test_message = \"Hello! I'm looking for tickets to tonight's game.\"\n",
        "\n",
        "response = agent.chat(test_message)\n",
        "\n",
        "print(f\"👤 User: {test_message}\")\n",
        "print(f\"🤖 Agent: {response}\")\n"
      ]
    },
    {
      "cell_type": "code",
      "execution_count": null,
      "metadata": {},
      "outputs": [],
      "source": [
        "# Test with tools (ticketing functions)\n",
        "tool_message = \"Can you check what seats are available in section A for tonight's Lakers game?\"\n",
        "\n",
        "response_with_tools = agent.chat(tool_message, use_tools=True)\n",
        "\n",
        "print(f\"👤 User: {tool_message}\")\n",
        "print(f\"🤖 Agent: {response_with_tools}\")\n"
      ]
    },
    {
      "cell_type": "code",
      "execution_count": null,
      "metadata": {},
      "outputs": [],
      "source": [
        "# Test RAG functionality\n",
        "rag_message = \"What are the pricing policies for ticket upgrades?\"\n",
        "\n",
        "response_with_rag = agent.chat(rag_message, use_rag=True)\n",
        "\n",
        "print(f\"👤 User: {rag_message}\")\n",
        "print(f\"🤖 Agent: {response_with_rag}\")\n"
      ]
    },
    {
      "cell_type": "markdown",
      "metadata": {},
      "source": [
        "## Next Steps\n",
        "\n",
        "Now that you have the basic setup working:\n",
        "\n",
        "1. **Explore Tools**: Check out `02_Tools_and_Functions.ipynb`\n",
        "2. **RAG System**: See `03_RAG_System.ipynb`\n",
        "3. **Data Analysis**: Try `04_Data_Analysis.ipynb`\n",
        "4. **Model Experiments**: Use `05_Model_Experiments.ipynb`\n",
        "\n",
        "## Troubleshooting\n",
        "\n",
        "If you encounter issues:\n",
        "- Verify your environment variables are set correctly\n",
        "- Check that your Vertex AI endpoint is deployed and running\n",
        "- Ensure you have the necessary Google Cloud permissions\n",
        "- Review the main README.md for detailed setup instructions\n"
      ]
    }
  ],
  "metadata": {
    "language_info": {
      "name": "python"
    }
  },
  "nbformat": 4,
  "nbformat_minor": 2
}
